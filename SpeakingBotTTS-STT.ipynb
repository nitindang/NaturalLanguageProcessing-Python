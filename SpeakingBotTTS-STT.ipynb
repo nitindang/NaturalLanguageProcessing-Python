{
 "cells": [
  {
   "cell_type": "code",
   "execution_count": 1,
   "metadata": {},
   "outputs": [],
   "source": [
    "# pip install pyttsx3\n",
    "# pip install chatterbot\n",
    "# pip install speech_recognition\n",
    "# pip install pyaudio"
   ]
  },
  {
   "cell_type": "code",
   "execution_count": 2,
   "metadata": {},
   "outputs": [],
   "source": [
    "import speech_recognition as sr\n",
    "from chatterbot import ChatBot\n",
    "from chatterbot.trainers import ListTrainer"
   ]
  },
  {
   "cell_type": "markdown",
   "metadata": {},
   "source": [
    "### Step#1 : Train the Bot"
   ]
  },
  {
   "cell_type": "code",
   "execution_count": 3,
   "metadata": {},
   "outputs": [
    {
     "name": "stdout",
     "output_type": "stream",
     "text": [
      "List Trainer: [####################] 100%\n",
      "List Trainer: [####################] 100%\n",
      "List Trainer: [####################] 100%\n",
      "List Trainer: [####################] 100%\n"
     ]
    }
   ],
   "source": [
    "bot = ChatBot('MOV')\n",
    "trainer = ListTrainer(bot)\n",
    "questions =['How are you?','Where were you born','What is your cat\\'s name','What is my account balance ?']\n",
    "trainer.train([questions[0],'I am good.'])\n",
    "trainer.train([questions[1],'I was born in Lucknow.'])\n",
    "trainer.train([questions[2],'My cat\\'s name is Migga'])\n",
    "trainer.train([questions[3],'Your account balance is Rupees 100'])"
   ]
  },
  {
   "cell_type": "code",
   "execution_count": 4,
   "metadata": {},
   "outputs": [],
   "source": [
    "## STEP1 is part of App SetUp!"
   ]
  },
  {
   "cell_type": "markdown",
   "metadata": {},
   "source": [
    "### Step#2: Ask a  Question (as Speech/Audio)"
   ]
  },
  {
   "cell_type": "code",
   "execution_count": 5,
   "metadata": {},
   "outputs": [
    {
     "name": "stdout",
     "output_type": "stream",
     "text": [
      "Please say something\n",
      "Recognizing Now .... \n",
      "You have said \n",
      "how are you\n",
      "Audio Recorded Successfully \n",
      " \n"
     ]
    }
   ],
   "source": [
    "\n",
    "r = sr.Recognizer()\n",
    "\n",
    "with sr.Microphone() as source:\n",
    "    r.adjust_for_ambient_noise(source)\n",
    "\n",
    "    print(\"Please say something\")\n",
    "\n",
    "    audio = r.listen(source)\n",
    "\n",
    "    print(\"Recognizing Now .... \")\n",
    "\n",
    "\n",
    "    # recognize speech using google\n",
    "    #voiceheard = r.recognize_sphinx(audio);\n",
    "    voiceheard = r.recognize_google(audio);\n",
    "    try:\n",
    "        print(\"You have said \\n\" + voiceheard)\n",
    "        print(\"Audio Recorded Successfully \\n \")\n",
    "\n",
    "\n",
    "    except Exception as e:\n",
    "        print(\"Error :  \" + str(e))"
   ]
  },
  {
   "cell_type": "code",
   "execution_count": 6,
   "metadata": {},
   "outputs": [],
   "source": [
    "speechResponse= bot.get_response(voiceheard)"
   ]
  },
  {
   "cell_type": "markdown",
   "metadata": {},
   "source": [
    "### Step#3: Get an Answer (as Speech/Audio)"
   ]
  },
  {
   "cell_type": "code",
   "execution_count": 7,
   "metadata": {},
   "outputs": [],
   "source": [
    "import pyttsx3\n",
    "engine = pyttsx3.init() # object creation\n",
    "\n",
    "\"\"\" RATE\"\"\"\n",
    "rate = engine.getProperty('rate')    # getting details of current speaking rate\n",
    "#print (rate)                        # printing current voice rate\n",
    "engine.setProperty('rate', 125)      # setting up new voice rate\n",
    "\n",
    "\n",
    "\"\"\"VOLUME\"\"\"\n",
    "volume = engine.getProperty('volume')    # getting to know current volume level (min=0 and max=1)\n",
    "#print (volume)                          # printing current volume level\n",
    "engine.setProperty('volume',1.0)         # setting up volume level  between 0 and 1\n",
    "\n",
    "\"\"\"VOICE\"\"\"\n",
    "voices = engine.getProperty('voices')       # getting details of current voice\n",
    "#engine.setProperty('voice', voices[0].id)  # changing index, changes voices. o for male\n",
    "engine.setProperty('voice', voices[1].id)   # changing index, changes voices. 1 for female\n",
    "\n",
    "engine.say(speechResponse)\n",
    "engine.runAndWait()\n",
    "engine.stop()\n",
    "\n",
    "# \"\"\"Saving Voice to a file\"\"\"\n",
    "# On linux make sure that 'espeak' and 'ffmpeg' are installed\n",
    "# engine.save_to_file('Hello World', 'test.mp3')\n",
    "# engine.runAndWait()"
   ]
  },
  {
   "cell_type": "code",
   "execution_count": null,
   "metadata": {},
   "outputs": [],
   "source": []
  },
  {
   "cell_type": "code",
   "execution_count": null,
   "metadata": {},
   "outputs": [],
   "source": []
  },
  {
   "cell_type": "code",
   "execution_count": null,
   "metadata": {},
   "outputs": [],
   "source": []
  }
 ],
 "metadata": {
  "kernelspec": {
   "display_name": "Python 3",
   "language": "python",
   "name": "python3"
  },
  "language_info": {
   "codemirror_mode": {
    "name": "ipython",
    "version": 3
   },
   "file_extension": ".py",
   "mimetype": "text/x-python",
   "name": "python",
   "nbconvert_exporter": "python",
   "pygments_lexer": "ipython3",
   "version": "3.6.4"
  }
 },
 "nbformat": 4,
 "nbformat_minor": 2
}
