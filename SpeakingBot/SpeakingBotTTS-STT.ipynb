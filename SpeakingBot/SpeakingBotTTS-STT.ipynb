{
 "cells": [
  {
   "cell_type": "code",
   "execution_count": 1,
   "metadata": {},
   "outputs": [],
   "source": [
    "# sudo apt-get update\n",
    "# sudo apt update\n",
    "# sudo apt install python3-pip\n",
    "# pip3 install pyttsx3\n",
    "# pip3 install chatterbot\n",
    "# pip3 install SpeechRecognition\n",
    "# python3 -m spacy download en\n",
    "# sudo apt-get update && sudo apt-get install espeak\n",
    "# sudo apt install libespeak1\n",
    "#----- WAYS TO INSTALL PYAUDIO ----\n",
    "#sudo apt-get install libasound-dev portaudio19-dev libportaudio2 libportaudiocpp0\n",
    "#sudo apt-get install ffmpeg libav-tools\n",
    "#sudo pip3 install pyaudio\n",

    "#sudo apt-get install portaudio19-dev python-pyaudio\n",
    "#pip3 install PyAudio\n"
    "#----------------------------------"
    
   ]
  },
  {
   "cell_type": "code",
   "execution_count": 2,
   "metadata": {},
   "outputs": [],
   "source": [
    "import pyttsx3\n",
    "import configparser\n",
    "import speech_recognition as sr\n",
    "from configparser import ConfigParser\n",
    "from chatterbot import ChatBot\n",
    "from chatterbot.trainers import ListTrainer"
   ]
  },
  {
   "cell_type": "code",
   "execution_count": 3,
   "metadata": {},
   "outputs": [],
   "source": [
    "bot = ChatBot('MOVI')\n",
    "trainer = ListTrainer(bot)"
   ]
  },
  {
   "cell_type": "markdown",
   "metadata": {},
   "source": [
    "#### Loading and Training the ChatBot"
   ]
  },
  {
   "cell_type": "code",
   "execution_count": 4,
   "metadata": {},
   "outputs": [
    {
     "name": "stdout",
     "output_type": "stream",
     "text": [
      "List Trainer: [####################] 100%\n",
      "List Trainer: [####################] 100%\n",
      "List Trainer: [####################] 100%\n",
      "List Trainer: [####################] 100%\n"
     ]
    }
   ],
   "source": [
    "separator = \"=\"\n",
    "with open('ChatbotTraining.properties') as f:\n",
    "    for line in f:\n",
    "        if separator in line:\n",
    "            name, value = line.split(separator, 1)\n",
    "            trainer.train([name, value])"
   ]
  },
  {
   "cell_type": "markdown",
   "metadata": {},
   "source": [
    "#### Converting Speech To Text"
   ]
  },
  {
   "cell_type": "code",
   "execution_count": 5,
   "metadata": {},
   "outputs": [
    {
     "name": "stdout",
     "output_type": "stream",
     "text": [
      "Please say something\n",
      "Recognizing Now .... \n",
      "You have said: how are you\n"
     ]
    }
   ],
   "source": [
    "r = sr.Recognizer()\n",
    "\n",
    "with sr.Microphone() as source:\n",
    "    r.adjust_for_ambient_noise(source)\n",
    "    print(\"Please say something\")\n",
    "    audio = r.listen(source)\n",
    "    print(\"Recognizing Now .... \")\n",
    "    # Using sphinx API\n",
    "    #voiceheard = r.recognize_sphinx(audio);\n",
    "    \n",
    "    # Using Google API\n",
    "    voiceheard = r.recognize_google(audio);\n",
    "    try:\n",
    "        print(\"You have said: \" + voiceheard)\n",
    "    except Exception as e:\n",
    "        print(\"Error :  \" + str(e))"
   ]
  },
  {
   "cell_type": "markdown",
   "metadata": {},
   "source": [
    "#### Returning answer [as text] from the question [as speech]"
   ]
  },
  {
   "cell_type": "code",
   "execution_count": 6,
   "metadata": {},
   "outputs": [],
   "source": [
    "speechResponse= bot.get_response(voiceheard)"
   ]
  },
  {
   "cell_type": "markdown",
   "metadata": {},
   "source": [
    "#### Converting Text To Speech"
   ]
  },
  {
   "cell_type": "code",
   "execution_count": 7,
   "metadata": {},
   "outputs": [],
   "source": [
    "engine = pyttsx3.init() # object creation\n",
    "ttsconfig = configparser.ConfigParser()\n",
    "ttsconfig.read('TTS.properties')\n",
    "\n",
    "\"\"\" RATE\"\"\"\n",
    "rate = engine.getProperty('rate')    # getting details of current speaking rate\n",
    "#print (rate)                        # printing current voice rate\n",
    "engine.setProperty('rate', ttsconfig.get(\"TTS\", \"rate\"))     # setting up new voice rate\n",
    "\n",
    "\n",
    "\"\"\"VOLUME\"\"\"\n",
    "volume = engine.getProperty('volume')    # getting to know current volume level (min=0 and max=1)\n",
    "#print (volume)                          # printing current volume level\n",
    "engine.setProperty('volume', ttsconfig.get(\"TTS\", \"volume\")) # setting up volume level  between 0 and 1\n",
    "\n",
    "\"\"\"VOICE\"\"\"\n",
    "voices = engine.getProperty('voices')       # getting details of current voice\n",
    "#engine.setProperty('voice', voices[0].id)  # changing index, changes voices. 0 for male\n",
    "engine.setProperty('voice', ttsconfig.get(\"TTS\", \"voices\")) # changing index, changes voices. 1 for female\n",
    "\n",
    "engine.say(speechResponse)\n",
    "engine.runAndWait()\n",
    "engine.stop()\n",
    "\n",
    "# \"\"\"Saving Voice to a file\"\"\"\n",
    "# On linux make sure that 'espeak' and 'ffmpeg' are installed\n",
    "# engine.save_to_file('Hello World', 'test.mp3')\n",
    "# engine.runAndWait()"
   ]
  },
  {
   "cell_type": "code",
   "execution_count": null,
   "metadata": {},
   "outputs": [],
   "source": []
  },
  {
   "cell_type": "code",
   "execution_count": null,
   "metadata": {},
   "outputs": [],
   "source": []
  },
  {
   "cell_type": "code",
   "execution_count": null,
   "metadata": {},
   "outputs": [],
   "source": []
  }
 ],
 "metadata": {
  "kernelspec": {
   "display_name": "Python 3",
   "language": "python",
   "name": "python3"
  },
  "language_info": {
   "codemirror_mode": {
    "name": "ipython",
    "version": 3
   },
   "file_extension": ".py",
   "mimetype": "text/x-python",
   "name": "python",
   "nbconvert_exporter": "python",
   "pygments_lexer": "ipython3",
   "version": "3.6.4"
  }
 },
 "nbformat": 4,
 "nbformat_minor": 2
}
